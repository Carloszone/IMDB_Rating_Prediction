{
 "cells": [
  {
   "cell_type": "code",
   "execution_count": 1,
   "id": "22b1b950",
   "metadata": {},
   "outputs": [
    {
     "name": "stdout",
     "output_type": "stream",
     "text": [
      "Requirement already satisfied: cinemagoer in c:\\users\\carlo\\anaconda3\\lib\\site-packages (2022.2.11)\n",
      "Requirement already satisfied: SQLAlchemy in c:\\users\\carlo\\anaconda3\\lib\\site-packages (from cinemagoer) (1.4.22)\n",
      "Requirement already satisfied: lxml in c:\\users\\carlo\\anaconda3\\lib\\site-packages (from cinemagoer) (4.6.3)\n",
      "Requirement already satisfied: greenlet!=0.4.17 in c:\\users\\carlo\\anaconda3\\lib\\site-packages (from SQLAlchemy->cinemagoer) (1.1.1)\n"
     ]
    }
   ],
   "source": [
    "# install Cinemagoer library\n",
    "!pip install cinemagoer"
   ]
  },
  {
   "cell_type": "code",
   "execution_count": 2,
   "id": "dd74d19a",
   "metadata": {},
   "outputs": [],
   "source": [
    "# load libraries\n",
    "import pandas as pd\n",
    "import imdb\n",
    "import re\n",
    "import numpy as np"
   ]
  },
  {
   "cell_type": "code",
   "execution_count": 3,
   "id": "c7d79539",
   "metadata": {},
   "outputs": [],
   "source": [
    "# read dataset\n",
    "df_path = 'https://raw.githubusercontent.com/sundeepblue/movie_rating_prediction/master/movie_metadata.csv'\n",
    "df = pd.read_csv(df_path)\n",
    "df = df.drop_duplicates(subset=['movie_imdb_link']).reset_index(drop = True)"
   ]
  },
  {
   "cell_type": "code",
   "execution_count": 4,
   "id": "4473ab65",
   "metadata": {},
   "outputs": [],
   "source": [
    "# function to get imdb number with regex from link\n",
    "def get_imdb_number(link):\n",
    "    number = re.findall(\"(?<=tt)[0-9]+\",link)\n",
    "    return number[0]\n",
    "\n",
    "# function to fransform\n",
    "def transform_2_int(str):\n",
    "    value = re.findall('^\\$[0-9,]+', str)[0].translate({ord(','): None, ord('$'): None})\n",
    "    return int(value)\n"
   ]
  },
  {
   "cell_type": "code",
   "execution_count": 5,
   "id": "e9b45614",
   "metadata": {},
   "outputs": [],
   "source": [
    "df['imdb_num'] = df['movie_imdb_link'].apply(get_imdb_number)\n",
    "nums = df.imdb_num.tolist()\n",
    "ia = imdb.Cinemagoer()"
   ]
  },
  {
   "cell_type": "code",
   "execution_count": 6,
   "id": "645e670f",
   "metadata": {},
   "outputs": [],
   "source": [
    "gross = []\n",
    "budget = []\n",
    "aspect_ratio = []\n",
    "title_year = []\n",
    "director_name = []\n",
    "actor_1_name = []\n",
    "actor_2_name = []\n",
    "actor_3_name = []\n",
    "color = []\n",
    "duration = []\n",
    "language = []\n",
    "for num in nums:\n",
    "    movies = ia.get_movie(num)\n",
    "    try:\n",
    "        gross.append(transform_2_int(movies['box office']['Cumulative Worldwide Gross']))\n",
    "    except:\n",
    "        gross.append(np.nan)\n",
    "    try:\n",
    "        budget.append(transform_2_int(movies['box office']['Budget']))\n",
    "    except:\n",
    "        budget.append(np.nan)\n",
    "    try:\n",
    "        aspect_ratio.append(movies['aspect ratio'])\n",
    "    except:\n",
    "        aspect_ratio.append(np.nan)\n",
    "    try:\n",
    "        title_year.append(movies['year'])\n",
    "    except:\n",
    "        title_year.append(np.nan)\n",
    "    try:\n",
    "        director_name.append(movies['director'][0]['name'])\n",
    "    except:\n",
    "        director_name.append(np.nan)\n",
    "    try:\n",
    "        actor_1_name.append(movies['cast'][0]['name'])\n",
    "    except:\n",
    "        actor_1_name.append(np.nan)\n",
    "    try:\n",
    "        actor_2_name.append(movies['cast'][1]['name'])\n",
    "    except:\n",
    "        actor_2_name.append(np.nan)\n",
    "    try:\n",
    "        actor_3_name.append(movies['cast'][2]['name'])\n",
    "    except:\n",
    "        actor_3_name.append(np.nan)\n",
    "    try:\n",
    "        color.append(movies['color info'][0])\n",
    "    except:\n",
    "        color.append(np.nan)\n",
    "    try:\n",
    "        duration.append(movies['runtimes'][0])\n",
    "    except:\n",
    "        duration.append(np.nan)\n",
    "    try:\n",
    "        language.append(movies['language'][0])\n",
    "    except:\n",
    "        language.append(np.nan)"
   ]
  },
  {
   "cell_type": "code",
   "execution_count": 7,
   "id": "9ce40c10",
   "metadata": {},
   "outputs": [],
   "source": [
    "df = pd.DataFrame({'No': nums, 'gross': gross, 'budget': budget, 'aspect_ratio': aspect_ratio, 'title_year': title_year,\\\n",
    "                  'director_name': director_name, 'actor_1_name': actor_1_name, 'actor_2_name': actor_2_name,\\\n",
    "                  'actor_3_name': actor_3_name, 'color': color, 'duration': duration, 'language': language})"
   ]
  },
  {
   "cell_type": "code",
   "execution_count": 8,
   "id": "df04ef58",
   "metadata": {},
   "outputs": [],
   "source": [
    "df.to_csv('IMDA_DATA.csv', index = False)"
   ]
  }
 ],
 "metadata": {
  "kernelspec": {
   "display_name": "Python 3 (ipykernel)",
   "language": "python",
   "name": "python3"
  },
  "language_info": {
   "codemirror_mode": {
    "name": "ipython",
    "version": 3
   },
   "file_extension": ".py",
   "mimetype": "text/x-python",
   "name": "python",
   "nbconvert_exporter": "python",
   "pygments_lexer": "ipython3",
   "version": "3.9.7"
  }
 },
 "nbformat": 4,
 "nbformat_minor": 5
}
